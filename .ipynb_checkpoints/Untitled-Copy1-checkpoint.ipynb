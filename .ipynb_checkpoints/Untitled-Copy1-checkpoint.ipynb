{
 "cells": [
  {
   "cell_type": "code",
   "execution_count": 1,
   "metadata": {},
   "outputs": [],
   "source": [
    "import numpy as np\n",
    "import cv2\n",
    "import matplotlib.pyplot as plt\n",
    "import random\n",
    "from scipy.ndimage.interpolation import shift\n",
    "import heapq"
   ]
  },
  {
   "cell_type": "code",
   "execution_count": 2,
   "metadata": {},
   "outputs": [],
   "source": [
    "img = np.array([[0]*256]*256)\n",
    "for i in range(256):\n",
    "    for j in range(256):\n",
    "        img[i][j] = abs(i-j)"
   ]
  },
  {
   "cell_type": "code",
   "execution_count": 5,
   "metadata": {},
   "outputs": [],
   "source": [
    "#dividing into blocks of 16*16\n",
    "rows = len(img)\n",
    "cols = len(img[0])\n",
    "\n",
    "blk_sz_x = 28\n",
    "blk_sz_y = 28\n",
    "\n",
    "num_blk_x = rows//blk_sz_x\n",
    "num_blk_y = cols//blk_sz_y\n",
    "num_blk = num_blk_x*num_blk_y"
   ]
  },
  {
   "cell_type": "code",
   "execution_count": 6,
   "metadata": {},
   "outputs": [],
   "source": [
    "#block stores all the puzzle blocks\n",
    "def divide_image(img,num_blk_x,num_blk_y,blk_sz_x,blk_sz_y):\n",
    "    blocks = []\n",
    "\n",
    "    for i in range(num_blk_x):\n",
    "        for j in range(num_blk_y):\n",
    "            blocks.append(img[i*blk_sz_x:(i+1)*blk_sz_x, j*blk_sz_y:(j+1)*blk_sz_y])\n",
    "\n",
    "    return blocks"
   ]
  },
  {
   "cell_type": "code",
   "execution_count": 8,
   "metadata": {},
   "outputs": [],
   "source": [
    "#initializing a random population\n",
    "def init_population(ppl_sz,num_blk_x,num_blk_y,num_blk):\n",
    "\n",
    "    population = []\n",
    "\n",
    "    for i in range(ppl_sz):\n",
    "        population.append(np.random.permutation(num_blk).reshape(num_blk_x,num_blk_y))\n",
    "        \n",
    "    return population"
   ]
  },
  {
   "cell_type": "code",
   "execution_count": 10,
   "metadata": {},
   "outputs": [],
   "source": [
    "def get_image(specie,blocks):\n",
    "    img_specie_row = []\n",
    "    for i in range(num_blk_x):\n",
    "        row = blocks[specie[i][0]]\n",
    "        for j in range(1,num_blk_y):\n",
    "            row = np.concatenate((row,blocks[specie[i][j]]),axis=1)\n",
    "        img_specie_row.append(row)\n",
    "        \n",
    "    img_specie = img_specie_row[0]\n",
    "    for i in range(1,num_blk_x):\n",
    "        img_specie = np.concatenate((img_specie,img_specie_row[i]),axis=0)\n",
    "    return img_specie"
   ]
  },
  {
   "cell_type": "code",
   "execution_count": 11,
   "metadata": {},
   "outputs": [],
   "source": [
    "def visual_specie(specie, blocks):\n",
    "    plt.imshow(get_image(specie,blocks))"
   ]
  },
  {
   "cell_type": "code",
   "execution_count": 13,
   "metadata": {},
   "outputs": [],
   "source": [
    "def compute_cost(specie,blocks,num_blk_x,num_blk_y):\n",
    "    cost = 0\n",
    "    for i in range(num_blk_x-1):\n",
    "        for j in range(num_blk_y-1):\n",
    "            p = specie[i][j]\n",
    "            p1 = specie[i+1][j]\n",
    "            p2 = specie[i][j+1]\n",
    "            cost += np.sum(abs(blocks[p][-1] - blocks[p1][0]))\n",
    "            cost += np.sum(abs(blocks[p].T[-1] - blocks[p2].T[0]))\n",
    "    return cost"
   ]
  },
  {
   "cell_type": "code",
   "execution_count": 15,
   "metadata": {},
   "outputs": [],
   "source": [
    "def isValid(i,j,num_blk_x,num_blk_y):\n",
    "    return 0<=i<num_blk_x and 0<=j<num_blk_y"
   ]
  },
  {
   "cell_type": "code",
   "execution_count": 16,
   "metadata": {},
   "outputs": [],
   "source": [
    "def find_partner(m1,m2,num_blk_x,num_blk_y):\n",
    "    dic = {}\n",
    "    dic['l'] = {}\n",
    "    dic['r'] = {}\n",
    "    dic['t'] = {}\n",
    "    dic['b'] = {}\n",
    "    \n",
    "    m2_loc = [-1]*num_blk_x*num_blk_y\n",
    "    for i in range(num_blk_x):\n",
    "        for j in range(num_blk_y):\n",
    "            m2_loc[m2[i][j]] = (i,j)\n",
    "    for i in range(num_blk_x):\n",
    "        for j in range(num_blk_y):\n",
    "            (x,y) = m2_loc[m1[i][j]]\n",
    "            if isValid(i,j+1,num_blk_x,num_blk_y) and isValid(x,y+1,num_blk_x,num_blk_y):\n",
    "                if m1[i,j+1] == m2[x,y+1]:\n",
    "                    dic['r'][m1[i,j]] = m1[i,j+1]\n",
    "                    dic['l'][m1[i,j+1]] = m1[i,j]\n",
    "\n",
    "            if isValid(i+1,j,num_blk_x,num_blk_y) and isValid(x+1,y,num_blk_x,num_blk_y):\n",
    "                if m1[i+1,j] == m2[x+1,y]:\n",
    "                    dic['b'][m1[i,j]] = m1[i+1,j]\n",
    "                    dic['t'][m1[i+1,j]] = m1[i,j]\n",
    "    return dic"
   ]
  },
  {
   "cell_type": "code",
   "execution_count": 17,
   "metadata": {},
   "outputs": [],
   "source": [
    "def bndry(i,j):\n",
    "    return [('l',(i,j),(i,j-1)), ('r',(i,j),(i,j+1)), ('t',(i,j),(i-1,j)), ('b',(i,j),(i+1,j))]"
   ]
  },
  {
   "cell_type": "code",
   "execution_count": 18,
   "metadata": {},
   "outputs": [],
   "source": [
    "def cmp(i):\n",
    "    if i=='l':\n",
    "        return 'r'\n",
    "    if i=='r':\n",
    "        return 'l'\n",
    "    if i=='t':\n",
    "        return 'b'\n",
    "    if i=='b':\n",
    "        return 't'"
   ]
  },
  {
   "cell_type": "code",
   "execution_count": 19,
   "metadata": {},
   "outputs": [],
   "source": [
    "def is_in_range(stx,sty,enx,eny,position):\n",
    "    return max(enx,position[0])-min(stx,position[0])+1<=num_blk_x and max(eny,position[1])-min(sty,position[1])+1<=num_blk_y "
   ]
  },
  {
   "cell_type": "code",
   "execution_count": 93,
   "metadata": {},
   "outputs": [],
   "source": [
    "def crossover(m1,m2,best_match,blocks,num_blk_x,num_blk_y):\n",
    "    child = np.array([[-1]*(2*num_blk_x+1)]*(2*num_blk_y+1))\n",
    "    num_blk = num_blk_x*num_blk_y\n",
    "\n",
    "    partner = find_partner(m1,m2,num_blk_x,num_blk_y)\n",
    "    \n",
    "    blk_used = set([])\n",
    "    \n",
    "    first_ele = random.randint(0,num_blk-1)\n",
    "    stx = enx = num_blk_x\n",
    "    sty = eny = num_blk_y\n",
    "    \n",
    "    child[stx][sty] = first_ele\n",
    "    blk_used.add(first_ele)\n",
    "    heap = []\n",
    "    boundary = bndry(num_blk_x,num_blk_y)\n",
    "    for orientation,pos,position in boundary:\n",
    "        if child[position]==-1 and is_in_range(stx,sty,enx,eny,position):\n",
    "            if child[pos] in partner[orientation]:\n",
    "                heapq.heappush(heap,(-10,partner[orientation][child[pos]],position))\n",
    "            elif best_match[child[pos]][orientation][0][1] == best_match[best_match[child[pos]][orientation][0][1]][cmp(orientation)][0][1]:\n",
    "                heapq.heappush(heap,(-1,best_match[child[pos]][orientation][0][1],position))\n",
    "            else:\n",
    "                for cst,val in best_match[child[pos]][orientation]:\n",
    "                    if val not in blk_used:\n",
    "                         heapq.heappush(heap,(cst,val,position))\n",
    "    while len(heap)>0:\n",
    "        _, piece,pos = heapq.heappop(heap)\n",
    "        if pos in blk_used or not is_in_range(stx,sty,enx,eny,pos) or child[pos] != -1:\n",
    "            continue\n",
    "        child[pos] = piece\n",
    "        blk_used.add(piece)\n",
    "        stx = min(stx,pos[0])\n",
    "        sty = min(sty,pos[1])\n",
    "        enx = max(enx,pos[0])\n",
    "        eny = max(eny,pos[1])\n",
    "        boundary = bndry(pos[0],pos[1])\n",
    "        for orientation,pos,position in boundary:\n",
    "            if child[position]==-1 and is_in_range(stx,sty,enx,eny,position):\n",
    "                if child[pos] in partner[orientation]:\n",
    "                    heapq.heappush(heap,(-10,partner[orientation][child[pos]],position))\n",
    "                elif best_match[child[pos]][orientation][0][1] == best_match[best_match[child[pos]][orientation][0][1]][cmp(orientation)][0][1]:\n",
    "                    heapq.heappush(heap,(-1,best_match[child[pos]][orientation][0][1],position))\n",
    "                else:\n",
    "                    for cst,val in best_match[child[pos]][orientation]:\n",
    "                        if val not in blk_used:\n",
    "                             heapq.heappush(heap,(cst,val,position))\n",
    "    return child[stx:sty+1, enx:eny+1]"
   ]
  },
  {
   "cell_type": "code",
   "execution_count": 94,
   "metadata": {},
   "outputs": [],
   "source": [
    "def compute_edge_cost(b1,b2,orient):\n",
    "    if orient == 'r':\n",
    "        return np.sqrt(np.sum(np.square((b1[:,-1]-b2[:,0])/255.0)))\n",
    "    if orient == 'b':\n",
    "        return np.sqrt(np.sum(np.square((b1[-1]-b2[0])/255.0)))\n",
    "    if orient == 'l':\n",
    "        return compute_edge_cost(b2,b1,'r')\n",
    "    if orient == 't':\n",
    "        return compute_edge_cost(b2,b1,'b')"
   ]
  },
  {
   "cell_type": "code",
   "execution_count": 95,
   "metadata": {},
   "outputs": [],
   "source": [
    "def preprocess(blocks,num_blks):\n",
    "    best_match = []\n",
    "    s = \"tblr\"\n",
    "    sc= \"btrl\"\n",
    "    for i in range(num_blks):\n",
    "        best_match.append({\"t\": [],\"r\": [],\"b\": [],\"l\": []})\n",
    "    for i in range(num_blks-1):\n",
    "        for j in range(i+1, num_blks):\n",
    "            for k in range(len(s)):\n",
    "                x = compute_edge_cost(blocks[i],blocks[j],s[k])\n",
    "                best_match[i][s[k]].append((x,j))\n",
    "                best_match[j][sc[k]].append((x,i))\n",
    "    for i in range(num_blks):\n",
    "        for j in s:\n",
    "            best_match[i][j].sort(key=lambda x:x[0])\n",
    "    return best_match"
   ]
  },
  {
   "cell_type": "code",
   "execution_count": 96,
   "metadata": {},
   "outputs": [],
   "source": [
    "def next_gen(population,blocks,num_blk_x,num_blk_y,ppl_sz):\n",
    "    cost = []\n",
    "    for member in population:\n",
    "        cost.append(compute_cost(member,blocks,num_blk_x,num_blk_y))\n",
    "    zipped_list = zip(cost,population)\n",
    "    sorted_zipped_list = sorted(zipped_list,key=lambda x: x[0])\n",
    "    new_pop = [element for _, element in sorted_zipped_list]\n",
    "    return new_pop[:ppl_sz]"
   ]
  },
  {
   "cell_type": "code",
   "execution_count": 98,
   "metadata": {},
   "outputs": [
    {
     "data": {
      "image/png": "[encoded data removed]",
      "text/plain": [
       "<matplotlib.figure.Figure at 0x7f60d69b7400>"
      ]
     },
     "metadata": {
      "needs_background": "light"
     },
     "output_type": "display_data"
    }
   ],
   "source": [
    "total_gen = 1\n",
    "best_specie_gen = []\n",
    "curr_gen = 0\n",
    "ppl_sz = 10\n",
    "\n",
    "rows = len(img)\n",
    "cols = len(img[0])\n",
    "\n",
    "blk_sz_x = 128\n",
    "blk_sz_y = 128\n",
    "\n",
    "num_blk_x = rows//blk_sz_x\n",
    "num_blk_y = cols//blk_sz_y\n",
    "num_blk = num_blk_x*num_blk_y\n",
    "\n",
    "blocks = divide_image(img,num_blk_x,num_blk_y,blk_sz_x,blk_sz_y)\n",
    "\n",
    "population = init_population(ppl_sz,num_blk_x,num_blk_y,num_blk)\n",
    "\n",
    "cost = [compute_cost(i,blocks,num_blk_x,num_blk_y) for i in population]\n",
    "bst = cost.index(min(cost))\n",
    "visual_specie(population[bst],blocks)"
   ]
  },
  {
   "cell_type": "code",
   "execution_count": 99,
   "metadata": {},
   "outputs": [],
   "source": [
    "best_match = preprocess(blocks,num_blk)"
   ]
  },
  {
   "cell_type": "code",
   "execution_count": 100,
   "metadata": {},
   "outputs": [
    {
     "name": "stdout",
     "output_type": "stream",
     "text": [
      "[]\n",
      "[[0 1]\n",
      " [2 0]]\n",
      "[]\n",
      "[[2]]\n"
     ]
    },
    {
     "ename": "IndexError",
     "evalue": "index 0 is out of bounds for axis 0 with size 0",
     "output_type": "error",
     "traceback": [
      "\u001b[0;31m---------------------------------------------------------------------------\u001b[0m",
      "\u001b[0;31mIndexError\u001b[0m                                Traceback (most recent call last)",
      "\u001b[0;32m<ipython-input-100-801272f52c01>\u001b[0m in \u001b[0;36m<module>\u001b[0;34m\u001b[0m\n\u001b[1;32m     10\u001b[0m             \u001b[0mnew_population\u001b[0m\u001b[0;34m.\u001b[0m\u001b[0mappend\u001b[0m\u001b[0;34m(\u001b[0m\u001b[0mchild\u001b[0m\u001b[0;34m)\u001b[0m\u001b[0;34m\u001b[0m\u001b[0m\n\u001b[1;32m     11\u001b[0m             \u001b[0mprint\u001b[0m\u001b[0;34m(\u001b[0m\u001b[0mchild\u001b[0m\u001b[0;34m)\u001b[0m\u001b[0;34m\u001b[0m\u001b[0m\n\u001b[0;32m---> 12\u001b[0;31m     \u001b[0mpopulation\u001b[0m \u001b[0;34m=\u001b[0m \u001b[0mnext_gen\u001b[0m\u001b[0;34m(\u001b[0m\u001b[0mnew_population\u001b[0m\u001b[0;34m,\u001b[0m\u001b[0mblocks\u001b[0m\u001b[0;34m,\u001b[0m\u001b[0mnum_blk_x\u001b[0m\u001b[0;34m,\u001b[0m\u001b[0mnum_blk_y\u001b[0m\u001b[0;34m,\u001b[0m\u001b[0mppl_sz\u001b[0m\u001b[0;34m)\u001b[0m\u001b[0;34m\u001b[0m\u001b[0m\n\u001b[0m\u001b[1;32m     13\u001b[0m \u001b[0;34m\u001b[0m\u001b[0m\n\u001b[1;32m     14\u001b[0m     \u001b[0mbest_specie_gen\u001b[0m\u001b[0;34m.\u001b[0m\u001b[0mappend\u001b[0m\u001b[0;34m(\u001b[0m\u001b[0mpopulation\u001b[0m\u001b[0;34m[\u001b[0m\u001b[0;36m0\u001b[0m\u001b[0;34m]\u001b[0m\u001b[0;34m)\u001b[0m\u001b[0;34m\u001b[0m\u001b[0m\n",
      "\u001b[0;32m<ipython-input-96-38628cb1c6c2>\u001b[0m in \u001b[0;36mnext_gen\u001b[0;34m(population, blocks, num_blk_x, num_blk_y, ppl_sz)\u001b[0m\n\u001b[1;32m      2\u001b[0m     \u001b[0mcost\u001b[0m \u001b[0;34m=\u001b[0m \u001b[0;34m[\u001b[0m\u001b[0;34m]\u001b[0m\u001b[0;34m\u001b[0m\u001b[0m\n\u001b[1;32m      3\u001b[0m     \u001b[0;32mfor\u001b[0m \u001b[0mmember\u001b[0m \u001b[0;32min\u001b[0m \u001b[0mpopulation\u001b[0m\u001b[0;34m:\u001b[0m\u001b[0;34m\u001b[0m\u001b[0m\n\u001b[0;32m----> 4\u001b[0;31m         \u001b[0mcost\u001b[0m\u001b[0;34m.\u001b[0m\u001b[0mappend\u001b[0m\u001b[0;34m(\u001b[0m\u001b[0mcompute_cost\u001b[0m\u001b[0;34m(\u001b[0m\u001b[0mmember\u001b[0m\u001b[0;34m,\u001b[0m\u001b[0mblocks\u001b[0m\u001b[0;34m,\u001b[0m\u001b[0mnum_blk_x\u001b[0m\u001b[0;34m,\u001b[0m\u001b[0mnum_blk_y\u001b[0m\u001b[0;34m)\u001b[0m\u001b[0;34m)\u001b[0m\u001b[0;34m\u001b[0m\u001b[0m\n\u001b[0m\u001b[1;32m      5\u001b[0m     \u001b[0mzipped_list\u001b[0m \u001b[0;34m=\u001b[0m \u001b[0mzip\u001b[0m\u001b[0;34m(\u001b[0m\u001b[0mcost\u001b[0m\u001b[0;34m,\u001b[0m\u001b[0mpopulation\u001b[0m\u001b[0;34m)\u001b[0m\u001b[0;34m\u001b[0m\u001b[0m\n\u001b[1;32m      6\u001b[0m     \u001b[0msorted_zipped_list\u001b[0m \u001b[0;34m=\u001b[0m \u001b[0msorted\u001b[0m\u001b[0;34m(\u001b[0m\u001b[0mzipped_list\u001b[0m\u001b[0;34m,\u001b[0m\u001b[0mkey\u001b[0m\u001b[0;34m=\u001b[0m\u001b[0;32mlambda\u001b[0m \u001b[0mx\u001b[0m\u001b[0;34m:\u001b[0m \u001b[0mx\u001b[0m\u001b[0;34m[\u001b[0m\u001b[0;36m0\u001b[0m\u001b[0;34m]\u001b[0m\u001b[0;34m)\u001b[0m\u001b[0;34m\u001b[0m\u001b[0m\n",
      "\u001b[0;32m<ipython-input-13-862664b636c9>\u001b[0m in \u001b[0;36mcompute_cost\u001b[0;34m(specie, blocks, num_blk_x, num_blk_y)\u001b[0m\n\u001b[1;32m      3\u001b[0m     \u001b[0;32mfor\u001b[0m \u001b[0mi\u001b[0m \u001b[0;32min\u001b[0m \u001b[0mrange\u001b[0m\u001b[0;34m(\u001b[0m\u001b[0mnum_blk_x\u001b[0m\u001b[0;34m-\u001b[0m\u001b[0;36m1\u001b[0m\u001b[0;34m)\u001b[0m\u001b[0;34m:\u001b[0m\u001b[0;34m\u001b[0m\u001b[0m\n\u001b[1;32m      4\u001b[0m         \u001b[0;32mfor\u001b[0m \u001b[0mj\u001b[0m \u001b[0;32min\u001b[0m \u001b[0mrange\u001b[0m\u001b[0;34m(\u001b[0m\u001b[0mnum_blk_y\u001b[0m\u001b[0;34m-\u001b[0m\u001b[0;36m1\u001b[0m\u001b[0;34m)\u001b[0m\u001b[0;34m:\u001b[0m\u001b[0;34m\u001b[0m\u001b[0m\n\u001b[0;32m----> 5\u001b[0;31m             \u001b[0mp\u001b[0m \u001b[0;34m=\u001b[0m \u001b[0mspecie\u001b[0m\u001b[0;34m[\u001b[0m\u001b[0mi\u001b[0m\u001b[0;34m]\u001b[0m\u001b[0;34m[\u001b[0m\u001b[0mj\u001b[0m\u001b[0;34m]\u001b[0m\u001b[0;34m\u001b[0m\u001b[0m\n\u001b[0m\u001b[1;32m      6\u001b[0m             \u001b[0mp1\u001b[0m \u001b[0;34m=\u001b[0m \u001b[0mspecie\u001b[0m\u001b[0;34m[\u001b[0m\u001b[0mi\u001b[0m\u001b[0;34m+\u001b[0m\u001b[0;36m1\u001b[0m\u001b[0;34m]\u001b[0m\u001b[0;34m[\u001b[0m\u001b[0mj\u001b[0m\u001b[0;34m]\u001b[0m\u001b[0;34m\u001b[0m\u001b[0m\n\u001b[1;32m      7\u001b[0m             \u001b[0mp2\u001b[0m \u001b[0;34m=\u001b[0m \u001b[0mspecie\u001b[0m\u001b[0;34m[\u001b[0m\u001b[0mi\u001b[0m\u001b[0;34m]\u001b[0m\u001b[0;34m[\u001b[0m\u001b[0mj\u001b[0m\u001b[0;34m+\u001b[0m\u001b[0;36m1\u001b[0m\u001b[0;34m]\u001b[0m\u001b[0;34m\u001b[0m\u001b[0m\n",
      "\u001b[0;31mIndexError\u001b[0m: index 0 is out of bounds for axis 0 with size 0"
     ]
    }
   ],
   "source": [
    "for gen in range(curr_gen,total_gen):\n",
    "    \n",
    "    random.shuffle(population)\n",
    "    new_population = population[:]\n",
    "\n",
    "    for i in range(0,len(population),2):\n",
    "        cross_pbt = random.random()\n",
    "        if cross_pbt<0.7:\n",
    "            child = crossover(population[i],population[i+1],best_match,blocks,num_blk_x,num_blk_y)\n",
    "            new_population.append(child)\n",
    "            print(child)\n",
    "    population = next_gen(new_population,blocks,num_blk_x,num_blk_y,ppl_sz)\n",
    "    \n",
    "    best_specie_gen.append(population[0])\n",
    "    if gen%10==9:\n",
    "        print(str(gen+1)+\" generation completed. Best cost: \"+str(compute_cost(best_specie_gen[-1],blocks,num_blk_x,num_blk_y)))\n",
    "    \n",
    "    curr_gen += 1"
   ]
  }
 ],
 "metadata": {
  "kernelspec": {
   "display_name": "Python 3",
   "language": "python",
   "name": "python3"
  },
  "language_info": {
   "codemirror_mode": {
    "name": "ipython",
    "version": 3
   },
   "file_extension": ".py",
   "mimetype": "text/x-python",
   "name": "python",
   "nbconvert_exporter": "python",
   "pygments_lexer": "ipython3",
   "version": "3.5.2"
  }
 },
 "nbformat": 4,
 "nbformat_minor": 2
}
